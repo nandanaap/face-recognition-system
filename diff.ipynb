{
 "cells": [
  {
   "cell_type": "code",
   "execution_count": null,
   "metadata": {},
   "outputs": [],
   "source": [
    "\n",
    "\n",
    "\n",
    "def generate_dataset():\n",
    "    face_classifier = cv2.CascadeClassifier(\"haarcascade_frontalface_default.xml\")\n",
    "    \n",
    "    def face_cropped(img):\n",
    "        gray = cv2.cvtColor(img, cv2.COLOR_BGR2GRAY)\n",
    "        faces = face_classifier.detectMultiScale(gray, 1.3, 5)\n",
    "        \n",
    "        if len(faces) == 0:\n",
    "            return None\n",
    "        \n",
    "        for (x, y, w, h) in faces:\n",
    "            cropped_face = img[y:y+h, x:x+w]\n",
    "            return cropped_face\n",
    "    \n",
    "    cap = cv2.VideoCapture(0)\n",
    "    id = 1\n",
    "    img_id = 0\n",
    "\n",
    "    while True:\n",
    "        ret, frame = cap.read()\n",
    "        if not ret:\n",
    "            break\n",
    "        \n",
    "        cropped_face = face_cropped(frame)\n",
    "        if cropped_face is not None:\n",
    "            img_id += 1\n",
    "            face = cv2.resize(cropped_face, (200, 200))\n",
    "            face = cv2.cvtColor(face, cv2.COLOR_BGR2GRAY)\n",
    "            file_name_path = \"data/user.\" + str(id) + \".\" + str(img_id) + \".jpg\"\n",
    "            cv2.imwrite(file_name_path, face)\n",
    "            cv2.putText(face, str(img_id), (50, 50), cv2.FONT_HERSHEY_COMPLEX, 1, (0, 255, 0), 2)\n",
    "\n",
    "            # Display the image using matplotlib\n",
    "            plt.imshow(face, cmap='gray')\n",
    "            plt.title(\"Cropped Face\")\n",
    "            plt.show(block=False)\n",
    "            plt.pause(0.001)\n",
    "            plt.close()\n",
    "        \n",
    "        if cv2.waitKey(1) == 13 or img_id == 200:\n",
    "            break\n",
    "    \n",
    "    cap.release()\n",
    "    cv2.destroyAllWindows()\n",
    "    print(\"Collecting samples completed\")\n",
    "\n",
    "generate_dataset()\n"
   ]
  }
 ],
 "metadata": {
  "language_info": {
   "name": "python"
  }
 },
 "nbformat": 4,
 "nbformat_minor": 2
}
